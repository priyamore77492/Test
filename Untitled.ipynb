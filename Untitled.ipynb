{
 "cells": [
  {
   "cell_type": "markdown",
   "id": "639a14cb-613d-4035-9af1-c918508ca03f",
   "metadata": {
    "tags": []
   },
   "source": [
    "# My Jupyter Notebook on IBM Watson Studio"
   ]
  },
  {
   "cell_type": "markdown",
   "id": "0147efb4-73e0-4238-afb0-4f6764c93d82",
   "metadata": {
    "tags": []
   },
   "source": [
    "## Priyanka More"
   ]
  },
  {
   "cell_type": "markdown",
   "id": "191fe022-01e5-4610-b528-c24f7121baee",
   "metadata": {},
   "source": [
    "### Student"
   ]
  },
  {
   "cell_type": "markdown",
   "id": "e6e5a98d-ab76-4ab7-97fd-2e722b93aa28",
   "metadata": {},
   "source": [
    "#### I am interested in data science because I love data science"
   ]
  },
  {
   "cell_type": "code",
   "execution_count": 3,
   "id": "9855af3c-4889-4205-921e-0770997015c1",
   "metadata": {},
   "outputs": [
    {
     "name": "stdout",
     "output_type": "stream",
     "text": [
      "a plus b is equal to 7\n"
     ]
    }
   ],
   "source": [
    "def add(a,b):\n",
    "    return a+b\n",
    "#Test\n",
    "a = 1\n",
    "b = 6\n",
    "print(\"a plus b is equal to\" + \" \" + str(add(a,b)))"
   ]
  },
  {
   "cell_type": "code",
   "execution_count": null,
   "id": "10bca30a-36a4-4381-81e3-434bc530f169",
   "metadata": {},
   "outputs": [],
   "source": []
  }
 ],
 "metadata": {
  "kernelspec": {
   "display_name": "Python",
   "language": "python",
   "name": "conda-env-python-py"
  },
  "language_info": {
   "codemirror_mode": {
    "name": "ipython",
    "version": 3
   },
   "file_extension": ".py",
   "mimetype": "text/x-python",
   "name": "python",
   "nbconvert_exporter": "python",
   "pygments_lexer": "ipython3",
   "version": "3.7.12"
  }
 },
 "nbformat": 4,
 "nbformat_minor": 5
}
